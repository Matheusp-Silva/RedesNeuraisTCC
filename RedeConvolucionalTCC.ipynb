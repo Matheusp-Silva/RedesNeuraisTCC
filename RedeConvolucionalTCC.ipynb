{
  "nbformat": 4,
  "nbformat_minor": 0,
  "metadata": {
    "colab": {
      "provenance": [],
      "authorship_tag": "ABX9TyPKLGnYtdMXn1dnI5qwulqT",
      "include_colab_link": true
    },
    "kernelspec": {
      "name": "python3",
      "display_name": "Python 3"
    },
    "language_info": {
      "name": "python"
    }
  },
  "cells": [
    {
      "cell_type": "markdown",
      "metadata": {
        "id": "view-in-github",
        "colab_type": "text"
      },
      "source": [
        "<a href=\"https://colab.research.google.com/github/Nathan-Nicolau/RedesNeuraisTCC/blob/main/RedeConvolucionalTCC.ipynb\" target=\"_parent\"><img src=\"https://colab.research.google.com/assets/colab-badge.svg\" alt=\"Open In Colab\"/></a>"
      ]
    },
    {
      "cell_type": "markdown",
      "source": [
        " **Sem nenhuma execução prévia ainda**\n",
        "\n",
        "---\n",
        "\n"
      ],
      "metadata": {
        "id": "ytbrS7TtRf7L"
      }
    },
    {
      "cell_type": "code",
      "execution_count": null,
      "metadata": {
        "id": "HDO5CMG0QjgN"
      },
      "outputs": [],
      "source": [
        "!pip install rasterio"
      ]
    },
    {
      "cell_type": "code",
      "source": [
        "from google.colab import drive\n",
        "#setar caminho do Drive (preferencialmente pela velocidade de conexão do Google)\n",
        "drive.mount('/content/drive')"
      ],
      "metadata": {
        "id": "OHTWA4ZrQy8z"
      },
      "execution_count": null,
      "outputs": []
    },
    {
      "cell_type": "code",
      "source": [
        "import os\n",
        "import cv2\n",
        "import matplotlib.pyplot as plt\n",
        "import numpy as np\n",
        "import pandas as pd\n",
        "import pylab as rcParams\n",
        "import matplotlib\n",
        "\n",
        "matplotlib.rcParams['axes.labelsize'] = 14\n",
        "matplotlib.rcParams['xtick.labelsize'] = 14\n",
        "matplotlib.rcParams['ytick.labelsize'] = 12\n",
        "matplotlib.rcParams['text.color'] = 'k'\n",
        "import seaborn as sns\n",
        "plt.style.use('fivethirtyeight')\n",
        "rcParams['figure.figsize'] = 18, 6\n",
        "from sklearn.model_selection import train_test_split\n",
        "from sklearn.preprocessing import LabelEncoder\n",
        "from sklearn.metrics import accuracy_score\n",
        "from sklearn.metrics import classification_report\n",
        "from sklearn.metrics import confusion_matrix"
      ],
      "metadata": {
        "id": "CE78uSXaReDH"
      },
      "execution_count": null,
      "outputs": []
    },
    {
      "cell_type": "markdown",
      "source": [
        "caminho no Drive das imagens do dataset"
      ],
      "metadata": {
        "id": "1zvd9IBuWWYR"
      }
    },
    {
      "cell_type": "code",
      "source": [
        "path = 'drive/...caminho'"
      ],
      "metadata": {
        "id": "MXCaJnFNWNOC"
      },
      "execution_count": null,
      "outputs": []
    },
    {
      "cell_type": "code",
      "source": [
        "classList = os.listdir(path)\n",
        "#Verificação necessária de listagem de classes existentes"
      ],
      "metadata": {
        "id": "NIocYZrDLKdV"
      },
      "execution_count": null,
      "outputs": []
    },
    {
      "cell_type": "code",
      "source": [
        "#Vetores que irão guardar as informações\n",
        "x = []\n",
        "y = []\n",
        "for i in range(len(classList)):\n",
        "  pathClass = os.path.join(path,classList[i])\n",
        "  imgList = os.listdir(pathClass)\n",
        "\n",
        "\n",
        "\n"
      ],
      "metadata": {
        "id": "CQHx1UNULRjD"
      },
      "execution_count": null,
      "outputs": []
    }
  ]
}