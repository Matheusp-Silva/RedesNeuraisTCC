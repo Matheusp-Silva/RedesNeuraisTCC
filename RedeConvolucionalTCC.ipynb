{
  "nbformat": 4,
  "nbformat_minor": 0,
  "metadata": {
    "colab": {
      "provenance": [],
      "authorship_tag": "ABX9TyNKuutnQptPY4/B/s4NLv/k",
      "include_colab_link": true
    },
    "kernelspec": {
      "name": "python3",
      "display_name": "Python 3"
    },
    "language_info": {
      "name": "python"
    }
  },
  "cells": [
    {
      "cell_type": "markdown",
      "metadata": {
        "id": "view-in-github",
        "colab_type": "text"
      },
      "source": [
        "<a href=\"https://colab.research.google.com/github/Nathan-Nicolau/RedesNeuraisTCC/blob/main/RedeConvolucionalTCC.ipynb\" target=\"_parent\"><img src=\"https://colab.research.google.com/assets/colab-badge.svg\" alt=\"Open In Colab\"/></a>"
      ]
    },
    {
      "cell_type": "markdown",
      "source": [
        " **Sem nenhuma execução prévia ainda**\n",
        "\n",
        "---\n",
        "\n"
      ],
      "metadata": {
        "id": "ytbrS7TtRf7L"
      }
    },
    {
      "cell_type": "code",
      "execution_count": null,
      "metadata": {
        "id": "HDO5CMG0QjgN"
      },
      "outputs": [],
      "source": [
        "!pip install rasterio"
      ]
    },
    {
      "cell_type": "code",
      "source": [
        "from google.colab import drive\n",
        "drive.mount('/content/drive')"
      ],
      "metadata": {
        "id": "OHTWA4ZrQy8z"
      },
      "execution_count": null,
      "outputs": []
    },
    {
      "cell_type": "code",
      "source": [
        "import os\n",
        "import cv2\n",
        "import matplotlib.pyplot as plt\n",
        "import numpy as np\n",
        "import pandas as pd\n",
        "import pylab as rcParams\n",
        "import matplotlib\n",
        "\n",
        "matplotlib.rcParams['axes.labelsize'] = 14\n",
        "matplotlib.rcParams['xtick.labelsize'] = 14\n",
        "matplotlib.rcParams['ytick.labelsize'] = 12\n",
        "matplotlib.rcParams['text.color'] = 'k'\n",
        "import seaborn as sns\n",
        "plt.style.use('fivethirtyeight')\n",
        "rcParams['figure.figsize'] = 18, 6\n",
        "from sklearn.model_selection import train_test_split\n",
        "from sklearn.preprocessing import LabelEncoder\n",
        "from sklearn.metrics import accuracy_score\n",
        "from sklearn.metrics import classification_report\n",
        "from sklearn.metrics import confusion_matrix"
      ],
      "metadata": {
        "id": "CE78uSXaReDH"
      },
      "execution_count": null,
      "outputs": []
    },
    {
      "cell_type": "markdown",
      "source": [
        "caminho no Drive das imagens do dataset"
      ],
      "metadata": {
        "id": "1zvd9IBuWWYR"
      }
    },
    {
      "cell_type": "code",
      "source": [
        "path = 'drive/...caminho'\n",
        "classList = os.listdir(path)\n",
        "#verificação da quantidade de classes\n",
        "print(classList)"
      ],
      "metadata": {
        "id": "AlWTQviNP3Pe"
      },
      "execution_count": null,
      "outputs": []
    },
    {
      "cell_type": "code",
      "source": [
        "x = [] #Vetor que receberá as imaagens do Dataset\n",
        "y = [] #Vetor que receberá as informações das classes\n",
        "i = 0\n",
        "\n",
        "for i in range(len(classList)):\n",
        "  pathClass = os.path.join(path,classList[i])\n",
        "  imgList = os.listdir(pathClass)\n",
        "  for j in range(len(imgList)):\n",
        "    pathImg = ps.path.join(pathClass,imgList[j])\n",
        "    src = rasterio.open(pathImg)\n",
        "    im = src.read()\n",
        "    im = im.transpose([1,2,0])\n",
        "    im1 = im[:,:,1:9]\n",
        "    im2 = im[:,:,11:]\n",
        "    im = np.dstack((im1,im2))\n",
        "    print(str(j) + ' ' +classList[i])\n",
        "    y.append(i)\n",
        "    x.append(im)"
      ],
      "metadata": {
        "id": "DVyJFN3AQEao"
      },
      "execution_count": null,
      "outputs": []
    },
    {
      "cell_type": "code",
      "source": [
        "#Visualização do \"shape\" dos dados\n",
        "x = np.array(x)\n",
        "y = np.array(y)"
      ],
      "metadata": {
        "id": "Pze205BqUKs7"
      },
      "execution_count": null,
      "outputs": []
    },
    {
      "cell_type": "code",
      "source": [
        "#Uma forma de verificação opicional da razão de quantidade de imagens\n",
        "#pela quantidade de classes existentes\n",
        "\n",
        "classe, qtd = np.unique(y,return_counts=True)\n",
        "df = pd.DataFrame(data=qtd,index=classList, columns=['Amostras'])\n",
        "ax = sns.barplot(x = df.index, y=\"Amostras\", data=df)"
      ],
      "metadata": {
        "id": "l3cxwU1xdH8E"
      },
      "execution_count": null,
      "outputs": []
    },
    {
      "cell_type": "code",
      "source": [
        "#Importação das classes/bibliotecas para desenvolvimento da Rede Convolucional\n",
        "from keras.models import Model, Sequential\n",
        "from keras.layers import Input, Conv2D, MaxPooling2D, Flatten,Dense,BatchNormalization, Dropout, Activation\n",
        "import tensorflow as tf\n",
        "from tensorflow.keras.optimizers import Adam\n",
        "from keras.activations import relu\n",
        "from keras.losses import binary_crossentropy\n",
        "from keras import backend as K\n",
        "from keras.models import load_model\n",
        "from keras.preprocessing.image import ImageDataGenerator\n",
        "from keras.utils import np_utils"
      ],
      "metadata": {
        "id": "Xn32PsMldz5V"
      },
      "execution_count": null,
      "outputs": []
    },
    {
      "cell_type": "code",
      "source": [
        "#conversão do vetor \"y\" (valores das classes) para uma representação categórica com valores entre 0 e 1\n",
        "y = np_utils.to_categorical(y)\n",
        "\n",
        "#Separação de dados entre: Treinamento e Testes\n",
        "xTrain, xTest, yTrain, yTest = train_test_split(x,y,test_size=0.3,random_state=10)"
      ],
      "metadata": {
        "id": "oEFXHWCSOWxy"
      },
      "execution_count": null,
      "outputs": []
    },
    {
      "cell_type": "code",
      "source": [
        "print('Dados x de Treinamento: ' + xTrain.shape)\n",
        "print('Dados x de Testes' + yTest.shape)\n",
        "\n",
        "print('Dados y de Treinamento: ' + yTrain.shape)\n",
        "print('Dados y de Testes: ' + yTest.shape)"
      ],
      "metadata": {
        "id": "dlcx5rqfQH4s"
      },
      "execution_count": null,
      "outputs": []
    },
    {
      "cell_type": "markdown",
      "source": [
        "**Analisar necessidade: ** Como estamos usando imagens do Sentinel 2, precisamos dividir os valores de pixel brutos para colocar em um intervalo entre 0 e 1. Primeiro com o conjunto de teste e depois com o conjunto de treinamento:"
      ],
      "metadata": {
        "id": "rLI4CUinQMg6"
      }
    },
    {
      "cell_type": "code",
      "source": [
        "xTest = xTest/10000.0\n",
        "xTrain = xTrain/10000.0\n",
        "\n",
        "xTrain.shape[1:]"
      ],
      "metadata": {
        "id": "zmpS5HzUQIsJ"
      },
      "execution_count": null,
      "outputs": []
    },
    {
      "cell_type": "code",
      "source": [
        "#Rede convolucional montado com o Keras\n",
        "Rede = Sequential()\n",
        "\n",
        "Rede.add(Conv2D(32,(3,3),kernel_initializer=\"he_normal\",padding=\"same\",input_shape=(xTrain.shape[1:])))\n",
        "Rede.add(Activation('relu'))\n",
        "Rede.add(MaxPooling2D(pool_size=(2,2),strides=2))\n",
        "Rede.add(Conv2D(64,(3,3),kernel_initializer='he_normal',padding='same'))\n",
        "Rede.add(Activation('relu'))\n",
        "Rede.add(MaxPooling2D(pool_size=(2,2),strides=2))\n",
        "Rede.add(Conv2D(128,(3,3),kernel_initializer='he_normal',padding='same'))\n",
        "Rede.add(Activation('relu'))\n",
        "Rede.add(MaxPooling2D(pool_size=(2,2),strides=2))\n",
        "Rede.add(Conv2D(256,(3,3),kernel_initializer='he_normal',padding='same'))\n",
        "Rede.add(Activation('relu'))\n",
        "Rede.add(MaxPooling2D(pool_size=(2,2),strides=2))\n",
        "Rede.add(Flatten())\n",
        "Rede.add(Dropout(0.5))\n",
        "Rede.add(Dense(512))\n",
        "Rede.add(Activation('relu'))\n",
        "Rede.add(Dense(10))\n",
        "Rede.add(Activation('softmax'))\n",
        "Rede.compile(loss='categorical_crossentropy', optimizer=Adam(lr=0.00001, decay=1e-6), metrics=['accuracy'])\n",
        "Rede.summary()"
      ],
      "metadata": {
        "id": "hSl22yOTQgfm"
      },
      "execution_count": null,
      "outputs": []
    },
    {
      "cell_type": "markdown",
      "source": [
        "#Treinamento da Rede com os dados já pode ser feita\n"
      ],
      "metadata": {
        "id": "E9jYUHOkTY9g"
      }
    },
    {
      "cell_type": "code",
      "source": [
        "#Parâmetros podem ser mudados\n",
        "history = Rede.fit(x = xTrain, y=yTrain, batch_size=64, epochs=200, verbose=1,shuffle=True, validation_split=0.2)"
      ],
      "metadata": {
        "id": "4NybcLwyTgS9"
      },
      "execution_count": null,
      "outputs": []
    },
    {
      "cell_type": "code",
      "source": [
        "plt.plot(history.history['accuracy'])\n",
        "plt.plot(history.history['val_accuracy'])\n",
        "plt.title('Resultados de precisão da RNC')\n",
        "plt.ylabel('Precisão')\n",
        "plt.xlabel('Épocas')\n",
        "plt.legend(['Dados de treinamento', 'Dados de validação'], loc='lower right')\n",
        "plt.show()\n",
        "\n",
        "plt.plot(history.history['loss'])\n",
        "plt.plot(history.history['val_loss'])\n",
        "plt.title('Resultados de perda da RNC')\n",
        "plt.ylabel('Perda')\n",
        "plt.xlabel('Épocas]')\n",
        "plt.legend(['Daoos de treinamento', 'Dados de testes'], loc='upper right')\n",
        "plt.show()"
      ],
      "metadata": {
        "id": "A5wV2oqpU-Z7"
      },
      "execution_count": null,
      "outputs": []
    },
    {
      "cell_type": "markdown",
      "source": [
        "Predição das classes das imagens do dataset que foram separadas para testes"
      ],
      "metadata": {
        "id": "PwxNlTEpg2C0"
      }
    },
    {
      "cell_type": "code",
      "source": [
        "predict = Rede.predict(xTest)\n",
        "pred = np.argmax(predict,axis=1)\n",
        "true = np.argmax(yTest, axis=1)\n",
        "\n",
        "#Cálculo da precisão global dos dados de teste\n",
        "accuracy = accuracy_score(true,pred)\n",
        "print('Precisão Global:(porcentagem)' + accuracy * 100 + \"%\")\n",
        "\n",
        "#outra forma de classificação de precisões obtidas com o classification_report\n",
        "\n",
        "print(classification_report(true,pred))"
      ],
      "metadata": {
        "id": "52xly_ICg_BV"
      },
      "execution_count": null,
      "outputs": []
    }
  ]
}