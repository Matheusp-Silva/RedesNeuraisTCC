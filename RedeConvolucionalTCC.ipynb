{
  "nbformat": 4,
  "nbformat_minor": 0,
  "metadata": {
    "colab": {
      "provenance": [],
      "authorship_tag": "ABX9TyMKt5gO5aOQf3RqrtaJ6Dxb",
      "include_colab_link": true
    },
    "kernelspec": {
      "name": "python3",
      "display_name": "Python 3"
    },
    "language_info": {
      "name": "python"
    }
  },
  "cells": [
    {
      "cell_type": "markdown",
      "metadata": {
        "id": "view-in-github",
        "colab_type": "text"
      },
      "source": [
        "<a href=\"https://colab.research.google.com/github/Nathan-Nicolau/RedesNeuraisTCC/blob/main/RedeConvolucionalTCC.ipynb\" target=\"_parent\"><img src=\"https://colab.research.google.com/assets/colab-badge.svg\" alt=\"Open In Colab\"/></a>"
      ]
    },
    {
      "cell_type": "markdown",
      "source": [
        " **Sem nenhuma execução prévia ainda**\n",
        "\n",
        "---\n",
        "\n"
      ],
      "metadata": {
        "id": "ytbrS7TtRf7L"
      }
    },
    {
      "cell_type": "code",
      "execution_count": null,
      "metadata": {
        "id": "HDO5CMG0QjgN"
      },
      "outputs": [],
      "source": [
        "!pip install rasterio"
      ]
    },
    {
      "cell_type": "code",
      "source": [
        "from google.colab import drive\n",
        "drive.mount('/content/drive')"
      ],
      "metadata": {
        "id": "OHTWA4ZrQy8z"
      },
      "execution_count": null,
      "outputs": []
    },
    {
      "cell_type": "code",
      "source": [
        "import os\n",
        "import cv2\n",
        "import matplotlib.pyplot as plt\n",
        "import numpy as np\n",
        "import pandas as pd\n",
        "import pylab as rcParams\n",
        "import matplotlib\n",
        "\n",
        "matplotlib.rcParams['axes.labelsize'] = 14\n",
        "matplotlib.rcParams['xtick.labelsize'] = 14\n",
        "matplotlib.rcParams['ytick.labelsize'] = 12\n",
        "matplotlib.rcParams['text.color'] = 'k'\n",
        "import seaborn as sns\n",
        "plt.style.use('fivethirtyeight')\n",
        "rcParams['figure.figsize'] = 18, 6\n",
        "from sklearn.model_selection import train_test_split\n",
        "from sklearn.preprocessing import LabelEncoder\n",
        "from sklearn.metrics import accuracy_score\n",
        "from sklearn.metrics import classification_report\n",
        "from sklearn.metrics import confusion_matrix"
      ],
      "metadata": {
        "id": "CE78uSXaReDH"
      },
      "execution_count": null,
      "outputs": []
    },
    {
      "cell_type": "markdown",
      "source": [
        "caminho no Drive das imagens do dataset"
      ],
      "metadata": {
        "id": "1zvd9IBuWWYR"
      }
    },
    {
      "cell_type": "code",
      "source": [
        "path = 'drive/...caminho'\n",
        "classList = os.listdir(path)\n",
        "#verificação da quantidade de classes\n",
        "print(classList)"
      ],
      "metadata": {
        "id": "AlWTQviNP3Pe"
      },
      "execution_count": null,
      "outputs": []
    },
    {
      "cell_type": "code",
      "source": [
        "x = [] #Vetor que receberá as imaagens do Dataset\n",
        "y = [] #Vetor que receberá as informações das classes\n",
        "i = 0\n",
        "\n",
        "for i in range(len(classList)):\n",
        "  pathClass = os.path.join(path,classList[i])\n",
        "  imgList = os.listdir(pathClass)\n",
        "  for j in range(len(imgList)):\n",
        "    pathImg = ps.path.join(pathClass,imgList[j])\n",
        "    src = rasterio.open(pathImg)\n",
        "    im = src.read()\n",
        "    im = im.transpose([1,2,0])\n",
        "    im1 = im[:,:,1:9]\n",
        "    im2 = im[:,:,11:]\n",
        "    im = np.dstack((im1,im2))\n",
        "    print(str(j) + ' ' +classList[i])\n",
        "    y.append(i)\n",
        "    x.append(im)"
      ],
      "metadata": {
        "id": "DVyJFN3AQEao"
      },
      "execution_count": null,
      "outputs": []
    },
    {
      "cell_type": "code",
      "source": [
        "#Visualização do \"shape\" dos dados\n",
        "x = np.array(x)\n",
        "y = np.array(y)"
      ],
      "metadata": {
        "id": "Pze205BqUKs7"
      },
      "execution_count": null,
      "outputs": []
    },
    {
      "cell_type": "code",
      "source": [
        "#Uma forma de verificação opicional da razão de quantidade de imagens\n",
        "#pela quantidade de classes existentes\n",
        "\n",
        "classe, qtd = np.unique(y,return_counts=True)\n",
        "df = pd.DataFrame(data=qtd,index=classList, columns=['Amostras'])\n",
        "ax = sns.barplot(x = df.index, y=\"Amostras\", data=df)"
      ],
      "metadata": {
        "id": "l3cxwU1xdH8E"
      },
      "execution_count": null,
      "outputs": []
    },
    {
      "cell_type": "code",
      "source": [],
      "metadata": {
        "id": "Xn32PsMldz5V"
      },
      "execution_count": null,
      "outputs": []
    }
  ]
}