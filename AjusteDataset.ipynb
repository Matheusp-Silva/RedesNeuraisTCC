{
  "nbformat": 4,
  "nbformat_minor": 0,
  "metadata": {
    "colab": {
      "provenance": [],
      "authorship_tag": "ABX9TyNoS2VFMUpUjhRt5FhxUDv4",
      "include_colab_link": true
    },
    "kernelspec": {
      "name": "python3",
      "display_name": "Python 3"
    },
    "language_info": {
      "name": "python"
    }
  },
  "cells": [
    {
      "cell_type": "markdown",
      "metadata": {
        "id": "view-in-github",
        "colab_type": "text"
      },
      "source": [
        "<a href=\"https://colab.research.google.com/github/Nathan-Nicolau/RedesNeuraisTCC/blob/main/AjusteDataset.ipynb\" target=\"_parent\"><img src=\"https://colab.research.google.com/assets/colab-badge.svg\" alt=\"Open In Colab\"/></a>"
      ]
    },
    {
      "cell_type": "code",
      "execution_count": null,
      "metadata": {
        "id": "aOogXV8ZD8aU"
      },
      "outputs": [],
      "source": [
        "#algorimto de PDI para ajuste do Dataset para rede neural\n",
        "\n",
        "import os\n",
        "import cv2\n",
        "import xml.etree.ElementTree as Et\n",
        "\n",
        "xmlFolder = 'C:\\\\User\\\\Gamer\\\\Documents\\\\Dataset\\\\data\\\\24_chromossomes_objetc\\\\annotations\\\\'\n",
        "jpgFolder = 'C:\\\\User\\\\Gamer\\\\Documents\\\\Dataset\\\\data\\\\24_chromossomes_object\\\\JPEG'\n",
        "classFolder = 'C:\\\\User\\\\Gamer\\\\Documents\\\\Dataset\\\\data\\\\Classes\\\\'\n",
        "\n",
        "\n",
        "\n",
        "contador = 0\n",
        "for xmlFile in os.lisdir(paht='xmlFolder'):\n",
        "  contador = 1\n",
        "  print(contador,'-',xmlFile)\n",
        "\n",
        "  imgFile = xmlFile.replace('.xml','.jpg')\n",
        "  image = cv2.imread(filename=jpgFolder + imgFile)\n",
        "\n",
        "  #Lendo o xml como lista/json\n",
        "  tree = Et.parse(xmlFolder + xmlFile)\n",
        "  root = tree.getroot()\n",
        "\n",
        "  #Acessando informações do XML\n",
        "  contadorPares = 0\n",
        "  for obj in root.findAll('object'):\n",
        "    contadorPares +=1\n",
        "\n",
        "    #Nome da classe(A1,A2...)\n",
        "    name = obj.find('name').text\n",
        "\n",
        "    #Se a pasta da classe nao existe, então ela é criada\n",
        "    if os.path.exists(path=classFolder + '\\\\' + name) is False:\n",
        "      os.mkdir(path=classFolder + '\\\\' + name)\n",
        "\n",
        "    #Pega as informações da localização de onde está localizado o cromossomo\n",
        "    bndBox = obj.find('bndbox')\n",
        "    xMin = int(obj.find('xmin').text)\n",
        "    xMax = int(obj.find('xmax').text)\n",
        "    yMin = int(obj.find('ymin').text)\n",
        "    yMax = int(obj.find('ymax').text)\n",
        "\n",
        "    #recorte da  Imagem original\n",
        "    imagemCrop = image[yMin:yMax, xMin:xMax]\n",
        "\n",
        "    #Se quiser observa as imagens sendo salvas:\n",
        "    #cv2.imshow('Image',imageCrop)\n",
        "    #cv2.waitKey(0)\n",
        "    #cv2.destroyAllWindows()\n",
        "\n",
        "    #Salvando a imagem na pasta da sua respectiva classe\n",
        "    cv2.imwrite(f'{classFolder}\\\\{name}\\\\{xmlFile.replace(\".xml\",\"\")}-Cromossomo-{name}-{contadorPares}.jpg',imagemCrop)\n",
        "\n",
        "    if contadorPares == 2:\n",
        "      contadorPares = 0\n",
        "\n",
        "  if contador == 1001:\n",
        "    break\n",
        "\n"
      ]
    }
  ]
}